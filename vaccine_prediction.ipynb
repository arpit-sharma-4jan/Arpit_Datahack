{
 "cells": [
  {
   "cell_type": "code",
   "execution_count": 21,
   "id": "1a77a8fd-196e-4633-a9df-8b19dfd01f06",
   "metadata": {},
   "outputs": [],
   "source": [
    "# First of all, importing libraries\n",
    "import pandas as pd\n",
    "import numpy as np\n",
    "from sklearn.model_selection import train_test_split\n",
    "from sklearn.preprocessing import StandardScaler, LabelEncoder\n",
    "from sklearn.impute import SimpleImputer\n",
    "from sklearn.ensemble import RandomForestClassifier\n",
    "from sklearn.multioutput import MultiOutputClassifier\n",
    "from sklearn.metrics import roc_auc_score"
   ]
  },
  {
   "cell_type": "code",
   "execution_count": 22,
   "id": "71ed1b79-61ac-4d9c-aada-8848d093c546",
   "metadata": {},
   "outputs": [],
   "source": [
    "# Reading/Loading data from csv files provided\n",
    "train_features = pd.read_csv('Dataset/training_set_features.csv')\n",
    "train_labels = pd.read_csv('Dataset/training_set_labels.csv')\n",
    "test_features = pd.read_csv('Dataset/test_set_features.csv')\n",
    "submission_format = pd.read_csv('Dataset/submission_format.csv')"
   ]
  },
  {
   "cell_type": "code",
   "execution_count": 23,
   "id": "c5bd4242-fddb-4d5b-a30e-bbf8c5ca4331",
   "metadata": {},
   "outputs": [
    {
     "name": "stdout",
     "output_type": "stream",
     "text": [
      "Training features preview:\n",
      "   respondent_id  xyz_concern  xyz_knowledge  behavioral_antiviral_meds  \\\n",
      "0              0          1.0            0.0                        0.0   \n",
      "1              1          3.0            2.0                        0.0   \n",
      "2              2          1.0            1.0                        0.0   \n",
      "3              3          1.0            1.0                        0.0   \n",
      "4              4          2.0            1.0                        0.0   \n",
      "\n",
      "   behavioral_avoidance  behavioral_face_mask  behavioral_wash_hands  \\\n",
      "0                   0.0                   0.0                    0.0   \n",
      "1                   1.0                   0.0                    1.0   \n",
      "2                   1.0                   0.0                    0.0   \n",
      "3                   1.0                   0.0                    1.0   \n",
      "4                   1.0                   0.0                    1.0   \n",
      "\n",
      "   behavioral_large_gatherings  behavioral_outside_home  \\\n",
      "0                          0.0                      1.0   \n",
      "1                          0.0                      1.0   \n",
      "2                          0.0                      0.0   \n",
      "3                          1.0                      0.0   \n",
      "4                          1.0                      0.0   \n",
      "\n",
      "   behavioral_touch_face  ...             income_poverty  marital_status  \\\n",
      "0                    1.0  ...              Below Poverty     Not Married   \n",
      "1                    1.0  ...              Below Poverty     Not Married   \n",
      "2                    0.0  ...  <= $75,000, Above Poverty     Not Married   \n",
      "3                    0.0  ...              Below Poverty     Not Married   \n",
      "4                    1.0  ...  <= $75,000, Above Poverty         Married   \n",
      "\n",
      "   rent_or_own   employment_status  hhs_geo_region                census_msa  \\\n",
      "0          Own  Not in Labor Force        oxchjgsf                   Non-MSA   \n",
      "1         Rent            Employed        bhuqouqj  MSA, Not Principle  City   \n",
      "2          Own            Employed        qufhixun  MSA, Not Principle  City   \n",
      "3         Rent  Not in Labor Force        lrircsnp       MSA, Principle City   \n",
      "4          Own            Employed        qufhixun  MSA, Not Principle  City   \n",
      "\n",
      "   household_adults  household_children  employment_industry  \\\n",
      "0               0.0                 0.0                  NaN   \n",
      "1               0.0                 0.0             pxcmvdjn   \n",
      "2               2.0                 0.0             rucpziij   \n",
      "3               0.0                 0.0                  NaN   \n",
      "4               1.0                 0.0             wxleyezf   \n",
      "\n",
      "   employment_occupation  \n",
      "0                    NaN  \n",
      "1               xgwztkwe  \n",
      "2               xtkaffoo  \n",
      "3                    NaN  \n",
      "4               emcorrxb  \n",
      "\n",
      "[5 rows x 36 columns]\n"
     ]
    }
   ],
   "source": [
    "# Just previewing stuffs\n",
    "print(\"Training features preview:\")\n",
    "print(train_features.head())"
   ]
  },
  {
   "cell_type": "code",
   "execution_count": 24,
   "id": "d6fe3111-276e-4559-9a2b-7e221e76dca6",
   "metadata": {},
   "outputs": [
    {
     "name": "stdout",
     "output_type": "stream",
     "text": [
      "Training labels preview:\n",
      "   respondent_id  xyz_vaccine  seasonal_vaccine\n",
      "0              0            0                 0\n",
      "1              1            0                 1\n",
      "2              2            0                 0\n",
      "3              3            0                 1\n",
      "4              4            0                 0\n"
     ]
    }
   ],
   "source": [
    "print(\"Training labels preview:\")\n",
    "print(train_labels.head())"
   ]
  },
  {
   "cell_type": "code",
   "execution_count": 25,
   "id": "488c5bd9-3e26-48ef-aa54-ee44c5c3af75",
   "metadata": {},
   "outputs": [],
   "source": [
    "# Imputing missing values : Here i am using simple imputer to replace missing values with most frequent one\n",
    "imputer = SimpleImputer(strategy='most_frequent')\n",
    "train_features_imputed = pd.DataFrame(imputer.fit_transform(train_features), columns=train_features.columns)"
   ]
  },
  {
   "cell_type": "code",
   "execution_count": 26,
   "id": "d5cf139b-2d93-4239-91db-dbe2c2f0c035",
   "metadata": {},
   "outputs": [
    {
     "name": "stdout",
     "output_type": "stream",
     "text": [
      "No missing values left after imputation in training features.\n"
     ]
    }
   ],
   "source": [
    "# Here i am identifying categorical columns and encoding them using LabelEncoder to convert them into numeric form\n",
    "categorical_cols = train_features_imputed.select_dtypes(include=['object']).columns\n",
    "label_encoders = {}\n",
    "for col in categorical_cols:\n",
    "    le = LabelEncoder()\n",
    "    train_features_imputed[col] = le.fit_transform(train_features_imputed[col].astype(str))\n",
    "    label_encoders[col] = le\n",
    "# making sure that no missing values left \n",
    "if train_features_imputed.isnull().sum().sum() == 0:\n",
    "    print(\"No missing values left after imputation in training features.\")\n",
    "else:\n",
    "    print(\"Warning: There are still missing values in training features!\")"
   ]
  },
  {
   "cell_type": "code",
   "execution_count": 27,
   "id": "9bbeefce-b686-432d-a27e-69e67e8efc1f",
   "metadata": {},
   "outputs": [],
   "source": [
    "# Defining feature and target variables as X and y\n",
    "X = train_features_imputed\n",
    "y = train_labels[['xyz_vaccine', 'seasonal_vaccine']]"
   ]
  },
  {
   "cell_type": "code",
   "execution_count": 28,
   "id": "abc0f61d-47fd-48b1-9410-b95658f4947b",
   "metadata": {},
   "outputs": [],
   "source": [
    "# Standardizing features using StandardScaler\n",
    "scaler = StandardScaler()\n",
    "X_scaled = scaler.fit_transform(X)"
   ]
  },
  {
   "cell_type": "code",
   "execution_count": 29,
   "id": "aa6c2928-9e73-4791-aa35-0833f7195a79",
   "metadata": {},
   "outputs": [],
   "source": [
    "# Splitting data into training and test sets\n",
    "X_train, X_test, y_train, y_test = train_test_split(X_scaled, y, test_size=0.2, random_state=7)  # CR7"
   ]
  },
  {
   "cell_type": "code",
   "execution_count": 30,
   "id": "cbc7f0be-41fc-40e3-ba4c-650bc9cd8508",
   "metadata": {},
   "outputs": [
    {
     "data": {
      "text/html": [
       "<style>#sk-container-id-2 {color: black;background-color: white;}#sk-container-id-2 pre{padding: 0;}#sk-container-id-2 div.sk-toggleable {background-color: white;}#sk-container-id-2 label.sk-toggleable__label {cursor: pointer;display: block;width: 100%;margin-bottom: 0;padding: 0.3em;box-sizing: border-box;text-align: center;}#sk-container-id-2 label.sk-toggleable__label-arrow:before {content: \"▸\";float: left;margin-right: 0.25em;color: #696969;}#sk-container-id-2 label.sk-toggleable__label-arrow:hover:before {color: black;}#sk-container-id-2 div.sk-estimator:hover label.sk-toggleable__label-arrow:before {color: black;}#sk-container-id-2 div.sk-toggleable__content {max-height: 0;max-width: 0;overflow: hidden;text-align: left;background-color: #f0f8ff;}#sk-container-id-2 div.sk-toggleable__content pre {margin: 0.2em;color: black;border-radius: 0.25em;background-color: #f0f8ff;}#sk-container-id-2 input.sk-toggleable__control:checked~div.sk-toggleable__content {max-height: 200px;max-width: 100%;overflow: auto;}#sk-container-id-2 input.sk-toggleable__control:checked~label.sk-toggleable__label-arrow:before {content: \"▾\";}#sk-container-id-2 div.sk-estimator input.sk-toggleable__control:checked~label.sk-toggleable__label {background-color: #d4ebff;}#sk-container-id-2 div.sk-label input.sk-toggleable__control:checked~label.sk-toggleable__label {background-color: #d4ebff;}#sk-container-id-2 input.sk-hidden--visually {border: 0;clip: rect(1px 1px 1px 1px);clip: rect(1px, 1px, 1px, 1px);height: 1px;margin: -1px;overflow: hidden;padding: 0;position: absolute;width: 1px;}#sk-container-id-2 div.sk-estimator {font-family: monospace;background-color: #f0f8ff;border: 1px dotted black;border-radius: 0.25em;box-sizing: border-box;margin-bottom: 0.5em;}#sk-container-id-2 div.sk-estimator:hover {background-color: #d4ebff;}#sk-container-id-2 div.sk-parallel-item::after {content: \"\";width: 100%;border-bottom: 1px solid gray;flex-grow: 1;}#sk-container-id-2 div.sk-label:hover label.sk-toggleable__label {background-color: #d4ebff;}#sk-container-id-2 div.sk-serial::before {content: \"\";position: absolute;border-left: 1px solid gray;box-sizing: border-box;top: 0;bottom: 0;left: 50%;z-index: 0;}#sk-container-id-2 div.sk-serial {display: flex;flex-direction: column;align-items: center;background-color: white;padding-right: 0.2em;padding-left: 0.2em;position: relative;}#sk-container-id-2 div.sk-item {position: relative;z-index: 1;}#sk-container-id-2 div.sk-parallel {display: flex;align-items: stretch;justify-content: center;background-color: white;position: relative;}#sk-container-id-2 div.sk-item::before, #sk-container-id-2 div.sk-parallel-item::before {content: \"\";position: absolute;border-left: 1px solid gray;box-sizing: border-box;top: 0;bottom: 0;left: 50%;z-index: -1;}#sk-container-id-2 div.sk-parallel-item {display: flex;flex-direction: column;z-index: 1;position: relative;background-color: white;}#sk-container-id-2 div.sk-parallel-item:first-child::after {align-self: flex-end;width: 50%;}#sk-container-id-2 div.sk-parallel-item:last-child::after {align-self: flex-start;width: 50%;}#sk-container-id-2 div.sk-parallel-item:only-child::after {width: 0;}#sk-container-id-2 div.sk-dashed-wrapped {border: 1px dashed gray;margin: 0 0.4em 0.5em 0.4em;box-sizing: border-box;padding-bottom: 0.4em;background-color: white;}#sk-container-id-2 div.sk-label label {font-family: monospace;font-weight: bold;display: inline-block;line-height: 1.2em;}#sk-container-id-2 div.sk-label-container {text-align: center;}#sk-container-id-2 div.sk-container {/* jupyter's `normalize.less` sets `[hidden] { display: none; }` but bootstrap.min.css set `[hidden] { display: none !important; }` so we also need the `!important` here to be able to override the default hidden behavior on the sphinx rendered scikit-learn.org. See: https://github.com/scikit-learn/scikit-learn/issues/21755 */display: inline-block !important;position: relative;}#sk-container-id-2 div.sk-text-repr-fallback {display: none;}</style><div id=\"sk-container-id-2\" class=\"sk-top-container\"><div class=\"sk-text-repr-fallback\"><pre>MultiOutputClassifier(estimator=RandomForestClassifier(random_state=42),\n",
       "                      n_jobs=-1)</pre><b>In a Jupyter environment, please rerun this cell to show the HTML representation or trust the notebook. <br />On GitHub, the HTML representation is unable to render, please try loading this page with nbviewer.org.</b></div><div class=\"sk-container\" hidden><div class=\"sk-item sk-dashed-wrapped\"><div class=\"sk-label-container\"><div class=\"sk-label sk-toggleable\"><input class=\"sk-toggleable__control sk-hidden--visually\" id=\"sk-estimator-id-4\" type=\"checkbox\" ><label for=\"sk-estimator-id-4\" class=\"sk-toggleable__label sk-toggleable__label-arrow\">MultiOutputClassifier</label><div class=\"sk-toggleable__content\"><pre>MultiOutputClassifier(estimator=RandomForestClassifier(random_state=42),\n",
       "                      n_jobs=-1)</pre></div></div></div><div class=\"sk-parallel\"><div class=\"sk-parallel-item\"><div class=\"sk-item\"><div class=\"sk-label-container\"><div class=\"sk-label sk-toggleable\"><input class=\"sk-toggleable__control sk-hidden--visually\" id=\"sk-estimator-id-5\" type=\"checkbox\" ><label for=\"sk-estimator-id-5\" class=\"sk-toggleable__label sk-toggleable__label-arrow\">estimator: RandomForestClassifier</label><div class=\"sk-toggleable__content\"><pre>RandomForestClassifier(random_state=42)</pre></div></div></div><div class=\"sk-serial\"><div class=\"sk-item\"><div class=\"sk-estimator sk-toggleable\"><input class=\"sk-toggleable__control sk-hidden--visually\" id=\"sk-estimator-id-6\" type=\"checkbox\" ><label for=\"sk-estimator-id-6\" class=\"sk-toggleable__label sk-toggleable__label-arrow\">RandomForestClassifier</label><div class=\"sk-toggleable__content\"><pre>RandomForestClassifier(random_state=42)</pre></div></div></div></div></div></div></div></div></div></div>"
      ],
      "text/plain": [
       "MultiOutputClassifier(estimator=RandomForestClassifier(random_state=42),\n",
       "                      n_jobs=-1)"
      ]
     },
     "execution_count": 30,
     "metadata": {},
     "output_type": "execute_result"
    }
   ],
   "source": [
    "# Training model | handling multiple target labels\n",
    "base_model = RandomForestClassifier(random_state=42)\n",
    "model = MultiOutputClassifier(base_model, n_jobs=-1)\n",
    "model.fit(X_train, y_train)"
   ]
  },
  {
   "cell_type": "code",
   "execution_count": 31,
   "id": "c99af7bf-d27c-4ed7-9b55-10690ee3358a",
   "metadata": {},
   "outputs": [],
   "source": [
    "# Predicting Probability of test set\n",
    "y_pred = model.predict_proba(X_test)"
   ]
  },
  {
   "cell_type": "code",
   "execution_count": 32,
   "id": "29cc1cde-7da6-493a-a2b9-efeff52a359b",
   "metadata": {},
   "outputs": [],
   "source": [
    "# finding probabilities for xyz and seasonal vaccine\n",
    "y_pred_xyz = np.array([pred[:, 1] for pred in y_pred]).T[:, 0]\n",
    "y_pred_seasonal = np.array([pred[:, 1] for pred in y_pred]).T[:, 1]"
   ]
  },
  {
   "cell_type": "code",
   "execution_count": 33,
   "id": "3945b680-a4b3-46e8-b1b0-dff205ae87bc",
   "metadata": {},
   "outputs": [
    {
     "name": "stdout",
     "output_type": "stream",
     "text": [
      "ROC AUC for xyz_vaccine: 0.8281476153459923\n",
      "ROC AUC for seasonal_vaccine: 0.8466387453417549\n",
      "Mean ROC AUC: 0.8373931803438737\n"
     ]
    }
   ],
   "source": [
    "# Additional calculation Mean ROC SUc score, just in case it is asked\n",
    "roc_auc_xyz = roc_auc_score(y_test['xyz_vaccine'], y_pred_xyz)\n",
    "roc_auc_seasonal = roc_auc_score(y_test['seasonal_vaccine'], y_pred_seasonal)\n",
    "mean_roc_auc = np.mean([roc_auc_xyz, roc_auc_seasonal])\n",
    "print(f\"ROC AUC for xyz_vaccine: {roc_auc_xyz}\")\n",
    "print(f\"ROC AUC for seasonal_vaccine: {roc_auc_seasonal}\")\n",
    "print(f\"Mean ROC AUC: {mean_roc_auc}\")"
   ]
  },
  {
   "cell_type": "code",
   "execution_count": 34,
   "id": "d697158e-fa8f-4780-8273-fde2fb51e403",
   "metadata": {},
   "outputs": [],
   "source": [
    "#Doing similiar process for test set\n",
    "test_features_imputed = pd.DataFrame(imputer.transform(test_features), columns=test_features.columns)\n",
    "for col in categorical_cols:\n",
    "    le = label_encoders[col]\n",
    "    # HandlING unseen labels by mapping them to a new category\n",
    "    test_features_imputed[col] = test_features_imputed[col].apply(lambda x: x if x in le.classes_ else 'unknown')\n",
    "    le.classes_ = np.append(le.classes_, 'unknown')\n",
    "    test_features_imputed[col] = le.transform(test_features_imputed[col].astype(str))"
   ]
  },
  {
   "cell_type": "code",
   "execution_count": 35,
   "id": "4f3783b6-64d5-4aee-8b8f-0fbee0e7b4e8",
   "metadata": {},
   "outputs": [],
   "source": [
    "test_features_scaled = scaler.transform(test_features_imputed)"
   ]
  },
  {
   "cell_type": "code",
   "execution_count": 36,
   "id": "11a3f5f1-9579-4a99-bd5c-9787e3144184",
   "metadata": {},
   "outputs": [],
   "source": [
    "y_pred_test = model.predict_proba(test_features_scaled)"
   ]
  },
  {
   "cell_type": "code",
   "execution_count": 37,
   "id": "0871208e-7967-457c-8bce-5578ae3a42cd",
   "metadata": {},
   "outputs": [],
   "source": [
    "y_pred_xyz_test = np.array([pred[:, 1] for pred in y_pred_test]).T[:, 0]\n",
    "y_pred_seasonal_test = np.array([pred[:, 1] for pred in y_pred_test]).T[:, 1]"
   ]
  },
  {
   "cell_type": "code",
   "execution_count": 38,
   "id": "42005a9a-a5a7-44bf-ad6f-69c73594d066",
   "metadata": {},
   "outputs": [
    {
     "name": "stdout",
     "output_type": "stream",
     "text": [
      "Submission file created :>\n"
     ]
    }
   ],
   "source": [
    "# Creating Submission file and saving it\n",
    "submission = pd.DataFrame({\n",
    "    'respondent_id': submission_format['respondent_id'],\n",
    "    'xyz_vaccine': y_pred_xyz_test,\n",
    "    'seasonal_vaccine': y_pred_seasonal_test\n",
    "})\n",
    "submission.to_csv('submission.csv', index=False)\n",
    "print(\"Submission file created :>\")"
   ]
  },
  {
   "cell_type": "code",
   "execution_count": null,
   "id": "d8595f06-6a7d-410b-a3e3-c7e99225edf1",
   "metadata": {},
   "outputs": [],
   "source": []
  },
  {
   "cell_type": "code",
   "execution_count": null,
   "id": "a18a4a4e-9641-4484-a60c-0816eb8d2f21",
   "metadata": {},
   "outputs": [],
   "source": []
  },
  {
   "cell_type": "code",
   "execution_count": null,
   "id": "db3a48d7-4a19-4eeb-8313-8571c064c76d",
   "metadata": {},
   "outputs": [],
   "source": []
  },
  {
   "cell_type": "code",
   "execution_count": null,
   "id": "00b78a0e-b80e-46ab-be80-2d751ac00fb9",
   "metadata": {},
   "outputs": [],
   "source": []
  }
 ],
 "metadata": {
  "kernelspec": {
   "display_name": "Python 3 (ipykernel)",
   "language": "python",
   "name": "python3"
  },
  "language_info": {
   "codemirror_mode": {
    "name": "ipython",
    "version": 3
   },
   "file_extension": ".py",
   "mimetype": "text/x-python",
   "name": "python",
   "nbconvert_exporter": "python",
   "pygments_lexer": "ipython3",
   "version": "3.11.7"
  }
 },
 "nbformat": 4,
 "nbformat_minor": 5
}
